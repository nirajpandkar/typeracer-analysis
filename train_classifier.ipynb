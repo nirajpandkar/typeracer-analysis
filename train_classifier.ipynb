{
 "cells": [
  {
   "cell_type": "markdown",
   "metadata": {},
   "source": [
    "# Imports"
   ]
  },
  {
   "cell_type": "code",
   "execution_count": 1,
   "metadata": {},
   "outputs": [],
   "source": [
    "import pandas as pd\n",
    "import numpy as np\n",
    "\n",
    "from sklearn.feature_extraction.text import CountVectorizer, TfidfVectorizer\n",
    "from sklearn.linear_model import LogisticRegression, SGDClassifier\n",
    "from sklearn.pipeline import Pipeline\n",
    "from sklearn.model_selection import train_test_split\n",
    "from sklearn.ensemble import AdaBoostClassifier, RandomForestClassifier\n",
    "from sklearn.metrics import classification_report\n",
    "from sklearn_pandas import DataFrameMapper"
   ]
  },
  {
   "cell_type": "markdown",
   "metadata": {},
   "source": [
    "# Load data"
   ]
  },
  {
   "cell_type": "code",
   "execution_count": 2,
   "metadata": {},
   "outputs": [],
   "source": [
    "df = pd.read_csv(\"races_text_merged.csv\")\n",
    "df = df.drop('Unnamed: 0', axis=1)"
   ]
  },
  {
   "cell_type": "code",
   "execution_count": 3,
   "metadata": {},
   "outputs": [
    {
     "data": {
      "text/html": [
       "<div>\n",
       "<style scoped>\n",
       "    .dataframe tbody tr th:only-of-type {\n",
       "        vertical-align: middle;\n",
       "    }\n",
       "\n",
       "    .dataframe tbody tr th {\n",
       "        vertical-align: top;\n",
       "    }\n",
       "\n",
       "    .dataframe thead th {\n",
       "        text-align: right;\n",
       "    }\n",
       "</style>\n",
       "<table border=\"1\" class=\"dataframe\">\n",
       "  <thead>\n",
       "    <tr style=\"text-align: right;\">\n",
       "      <th></th>\n",
       "      <th>Race</th>\n",
       "      <th>Date</th>\n",
       "      <th>WPM</th>\n",
       "      <th>Accuracy</th>\n",
       "      <th>Text_Id</th>\n",
       "      <th>Date_Epoch</th>\n",
       "      <th>Date_Month</th>\n",
       "      <th>Date_Year</th>\n",
       "      <th>Date_Day</th>\n",
       "      <th>Outcome_Rank</th>\n",
       "      <th>Outcome_No_Racers</th>\n",
       "      <th>Length</th>\n",
       "      <th>Text</th>\n",
       "      <th>Difficulty Rating</th>\n",
       "      <th>Average</th>\n",
       "      <th>Punctuation_Count</th>\n",
       "      <th>Capital_Case_Count</th>\n",
       "    </tr>\n",
       "  </thead>\n",
       "  <tbody>\n",
       "    <tr>\n",
       "      <th>0</th>\n",
       "      <td>4126</td>\n",
       "      <td>2018-12-22 00:01:33</td>\n",
       "      <td>78.76</td>\n",
       "      <td>0.96</td>\n",
       "      <td>3810450</td>\n",
       "      <td>1545454893</td>\n",
       "      <td>December</td>\n",
       "      <td>2018</td>\n",
       "      <td>22</td>\n",
       "      <td>3</td>\n",
       "      <td>3</td>\n",
       "      <td>317</td>\n",
       "      <td>Look, Ross, you gotta understand, between us w...</td>\n",
       "      <td>1.057</td>\n",
       "      <td>98.03</td>\n",
       "      <td>12</td>\n",
       "      <td>6</td>\n",
       "    </tr>\n",
       "    <tr>\n",
       "      <th>1</th>\n",
       "      <td>4125</td>\n",
       "      <td>2018-12-22 00:00:25</td>\n",
       "      <td>90.25</td>\n",
       "      <td>0.98</td>\n",
       "      <td>3641234</td>\n",
       "      <td>1545454825</td>\n",
       "      <td>December</td>\n",
       "      <td>2018</td>\n",
       "      <td>22</td>\n",
       "      <td>2</td>\n",
       "      <td>5</td>\n",
       "      <td>424</td>\n",
       "      <td>Harry could hardly believe this was real. Four...</td>\n",
       "      <td>0.986</td>\n",
       "      <td>93.64</td>\n",
       "      <td>10</td>\n",
       "      <td>7</td>\n",
       "    </tr>\n",
       "    <tr>\n",
       "      <th>2</th>\n",
       "      <td>4124</td>\n",
       "      <td>2018-09-27 01:55:37</td>\n",
       "      <td>100.13</td>\n",
       "      <td>0.98</td>\n",
       "      <td>499</td>\n",
       "      <td>1538031337</td>\n",
       "      <td>September</td>\n",
       "      <td>2018</td>\n",
       "      <td>27</td>\n",
       "      <td>1</td>\n",
       "      <td>2</td>\n",
       "      <td>297</td>\n",
       "      <td>Ideology: the process of making ideas. Certain...</td>\n",
       "      <td>0.950</td>\n",
       "      <td>61.94</td>\n",
       "      <td>5</td>\n",
       "      <td>3</td>\n",
       "    </tr>\n",
       "    <tr>\n",
       "      <th>3</th>\n",
       "      <td>1195</td>\n",
       "      <td>2016-02-18 21:15:18</td>\n",
       "      <td>65.89</td>\n",
       "      <td>0.91</td>\n",
       "      <td>499</td>\n",
       "      <td>1455848118</td>\n",
       "      <td>February</td>\n",
       "      <td>2016</td>\n",
       "      <td>18</td>\n",
       "      <td>2</td>\n",
       "      <td>3</td>\n",
       "      <td>297</td>\n",
       "      <td>Ideology: the process of making ideas. Certain...</td>\n",
       "      <td>0.950</td>\n",
       "      <td>61.94</td>\n",
       "      <td>5</td>\n",
       "      <td>3</td>\n",
       "    </tr>\n",
       "    <tr>\n",
       "      <th>4</th>\n",
       "      <td>1039</td>\n",
       "      <td>2016-01-27 08:40:02</td>\n",
       "      <td>68.13</td>\n",
       "      <td>0.95</td>\n",
       "      <td>499</td>\n",
       "      <td>1453902002</td>\n",
       "      <td>January</td>\n",
       "      <td>2016</td>\n",
       "      <td>27</td>\n",
       "      <td>2</td>\n",
       "      <td>3</td>\n",
       "      <td>297</td>\n",
       "      <td>Ideology: the process of making ideas. Certain...</td>\n",
       "      <td>0.950</td>\n",
       "      <td>61.94</td>\n",
       "      <td>5</td>\n",
       "      <td>3</td>\n",
       "    </tr>\n",
       "  </tbody>\n",
       "</table>\n",
       "</div>"
      ],
      "text/plain": [
       "   Race                 Date     WPM  Accuracy  Text_Id  Date_Epoch  \\\n",
       "0  4126  2018-12-22 00:01:33   78.76      0.96  3810450  1545454893   \n",
       "1  4125  2018-12-22 00:00:25   90.25      0.98  3641234  1545454825   \n",
       "2  4124  2018-09-27 01:55:37  100.13      0.98      499  1538031337   \n",
       "3  1195  2016-02-18 21:15:18   65.89      0.91      499  1455848118   \n",
       "4  1039  2016-01-27 08:40:02   68.13      0.95      499  1453902002   \n",
       "\n",
       "  Date_Month  Date_Year  Date_Day  Outcome_Rank  Outcome_No_Racers  Length  \\\n",
       "0   December       2018        22             3                  3     317   \n",
       "1   December       2018        22             2                  5     424   \n",
       "2  September       2018        27             1                  2     297   \n",
       "3   February       2016        18             2                  3     297   \n",
       "4    January       2016        27             2                  3     297   \n",
       "\n",
       "                                                Text  Difficulty Rating  \\\n",
       "0  Look, Ross, you gotta understand, between us w...              1.057   \n",
       "1  Harry could hardly believe this was real. Four...              0.986   \n",
       "2  Ideology: the process of making ideas. Certain...              0.950   \n",
       "3  Ideology: the process of making ideas. Certain...              0.950   \n",
       "4  Ideology: the process of making ideas. Certain...              0.950   \n",
       "\n",
       "   Average  Punctuation_Count  Capital_Case_Count  \n",
       "0    98.03                 12                   6  \n",
       "1    93.64                 10                   7  \n",
       "2    61.94                  5                   3  \n",
       "3    61.94                  5                   3  \n",
       "4    61.94                  5                   3  "
      ]
     },
     "execution_count": 3,
     "metadata": {},
     "output_type": "execute_result"
    }
   ],
   "source": [
    "df.head()"
   ]
  },
  {
   "cell_type": "markdown",
   "metadata": {},
   "source": [
    "# Define classification objective and prepare classes accordingly"
   ]
  },
  {
   "cell_type": "code",
   "execution_count": 21,
   "metadata": {},
   "outputs": [
    {
     "data": {
      "text/plain": [
       "(1168, 17)"
      ]
     },
     "execution_count": 21,
     "metadata": {},
     "output_type": "execute_result"
    }
   ],
   "source": [
    "df[(df['WPM']>75) & (df['WPM']< 85)].shape"
   ]
  },
  {
   "cell_type": "code",
   "execution_count": 22,
   "metadata": {},
   "outputs": [
    {
     "data": {
      "text/plain": [
       "(959, 17)"
      ]
     },
     "execution_count": 22,
     "metadata": {},
     "output_type": "execute_result"
    }
   ],
   "source": [
    "df[(df['WPM']>85) & (df['WPM']< 95)].shape"
   ]
  },
  {
   "cell_type": "code",
   "execution_count": 23,
   "metadata": {},
   "outputs": [
    {
     "data": {
      "text/plain": [
       "(446, 17)"
      ]
     },
     "execution_count": 23,
     "metadata": {},
     "output_type": "execute_result"
    }
   ],
   "source": [
    "df[(df['WPM']>95)].shape"
   ]
  },
  {
   "cell_type": "code",
   "execution_count": 24,
   "metadata": {},
   "outputs": [
    {
     "name": "stderr",
     "output_type": "stream",
     "text": [
      "/home/niraj/.virtualenvs/text/lib/python3.5/site-packages/ipykernel_launcher.py:11: SettingWithCopyWarning: \n",
      "A value is trying to be set on a copy of a slice from a DataFrame.\n",
      "Try using .loc[row_indexer,col_indexer] = value instead\n",
      "\n",
      "See the caveats in the documentation: http://pandas.pydata.org/pandas-docs/stable/indexing.html#indexing-view-versus-copy\n",
      "  # This is added back by InteractiveShellApp.init_path()\n"
     ]
    }
   ],
   "source": [
    "wpm_class = list()\n",
    "df_75 = df[(df['WPM']>75)]\n",
    "for index, row in df.iterrows():\n",
    "    if row['WPM'] >= 75.0 and row['WPM'] <= 85.0:\n",
    "        wpm_class.append(0)\n",
    "    elif row['WPM'] >= 85.0 and row['WPM'] <= 95.0:\n",
    "        wpm_class.append(1)\n",
    "    elif row['WPM']>=95.0:\n",
    "        wpm_class.append(2)\n",
    "        \n",
    "df_75['wpm_class'] = wpm_class"
   ]
  },
  {
   "cell_type": "code",
   "execution_count": 25,
   "metadata": {},
   "outputs": [
    {
     "data": {
      "text/html": [
       "<div>\n",
       "<style scoped>\n",
       "    .dataframe tbody tr th:only-of-type {\n",
       "        vertical-align: middle;\n",
       "    }\n",
       "\n",
       "    .dataframe tbody tr th {\n",
       "        vertical-align: top;\n",
       "    }\n",
       "\n",
       "    .dataframe thead th {\n",
       "        text-align: right;\n",
       "    }\n",
       "</style>\n",
       "<table border=\"1\" class=\"dataframe\">\n",
       "  <thead>\n",
       "    <tr style=\"text-align: right;\">\n",
       "      <th></th>\n",
       "      <th>WPM</th>\n",
       "      <th>wpm_class</th>\n",
       "    </tr>\n",
       "  </thead>\n",
       "  <tbody>\n",
       "    <tr>\n",
       "      <th>0</th>\n",
       "      <td>78.76</td>\n",
       "      <td>0</td>\n",
       "    </tr>\n",
       "    <tr>\n",
       "      <th>1</th>\n",
       "      <td>90.25</td>\n",
       "      <td>1</td>\n",
       "    </tr>\n",
       "    <tr>\n",
       "      <th>2</th>\n",
       "      <td>100.13</td>\n",
       "      <td>2</td>\n",
       "    </tr>\n",
       "    <tr>\n",
       "      <th>6</th>\n",
       "      <td>85.26</td>\n",
       "      <td>1</td>\n",
       "    </tr>\n",
       "    <tr>\n",
       "      <th>7</th>\n",
       "      <td>95.85</td>\n",
       "      <td>2</td>\n",
       "    </tr>\n",
       "  </tbody>\n",
       "</table>\n",
       "</div>"
      ],
      "text/plain": [
       "      WPM  wpm_class\n",
       "0   78.76          0\n",
       "1   90.25          1\n",
       "2  100.13          2\n",
       "6   85.26          1\n",
       "7   95.85          2"
      ]
     },
     "execution_count": 25,
     "metadata": {},
     "output_type": "execute_result"
    }
   ],
   "source": [
    "df_75[['WPM', 'wpm_class']].head()"
   ]
  },
  {
   "cell_type": "code",
   "execution_count": 26,
   "metadata": {},
   "outputs": [
    {
     "data": {
      "text/plain": [
       "0    1171\n",
       "1     960\n",
       "2     446\n",
       "Name: wpm_class, dtype: int64"
      ]
     },
     "execution_count": 26,
     "metadata": {},
     "output_type": "execute_result"
    }
   ],
   "source": [
    "df_75['wpm_class'].value_counts()"
   ]
  },
  {
   "cell_type": "markdown",
   "metadata": {},
   "source": [
    "# Train Test Split"
   ]
  },
  {
   "cell_type": "code",
   "execution_count": 27,
   "metadata": {},
   "outputs": [],
   "source": [
    "X_train, X_test, y_train, y_test = train_test_split(df_75['Text'], df_75['wpm_class'], test_size=0.2,\n",
    "                                                   random_state=42)"
   ]
  },
  {
   "cell_type": "markdown",
   "metadata": {},
   "source": [
    "# Create an ML pipeline"
   ]
  },
  {
   "cell_type": "code",
   "execution_count": 58,
   "metadata": {},
   "outputs": [],
   "source": [
    "df_train = df_75.sample(frac = 0.75, random_state=42)"
   ]
  },
  {
   "cell_type": "code",
   "execution_count": 59,
   "metadata": {},
   "outputs": [],
   "source": [
    "df_test = df_75.loc[~df_75.index.isin(df_train.index)]"
   ]
  },
  {
   "cell_type": "code",
   "execution_count": 60,
   "metadata": {},
   "outputs": [],
   "source": [
    "vec0 = CountVectorizer(lowercase=False, analyzer='word',ngram_range=(2, 5))\n",
    "vec1 = TfidfVectorizer(lowercase=False, analyzer='word', ngram_range=(2, 5))"
   ]
  },
  {
   "cell_type": "code",
   "execution_count": 61,
   "metadata": {},
   "outputs": [],
   "source": [
    "mapper = DataFrameMapper([\n",
    "    ('Text', vec1),\n",
    "    ('Punctuation_Count', None),\n",
    "    ('Capital_Case_Count', None),\n",
    "    ('Length', None),\n",
    "    ('Difficulty Rating', None)\n",
    "], sparse = True)"
   ]
  },
  {
   "cell_type": "code",
   "execution_count": 62,
   "metadata": {},
   "outputs": [],
   "source": [
    "pipeline = Pipeline([\n",
    "    ('featurizer', mapper),\n",
    "    ('clf', LogisticRegression(random_state=0)),\n",
    "])"
   ]
  },
  {
   "cell_type": "code",
   "execution_count": 63,
   "metadata": {},
   "outputs": [
    {
     "data": {
      "text/plain": [
       "Pipeline(memory=None,\n",
       "     steps=[('featurizer', DataFrameMapper(default=False, df_out=False,\n",
       "        features=[('Text', TfidfVectorizer(analyzer='word', binary=False, decode_error='strict',\n",
       "        dtype=<class 'numpy.float64'>, encoding='utf-8', input='content',\n",
       "        lowercase=False, max_df=1.0, max_features=None, min_df...e, penalty='l2', random_state=0, solver='warn',\n",
       "          tol=0.0001, verbose=0, warm_start=False))])"
      ]
     },
     "execution_count": 63,
     "metadata": {},
     "output_type": "execute_result"
    }
   ],
   "source": [
    "pipeline.fit(df_train, df_train['wpm_class'])"
   ]
  },
  {
   "cell_type": "code",
   "execution_count": 64,
   "metadata": {},
   "outputs": [
    {
     "data": {
      "text/plain": [
       "0.4984472049689441"
      ]
     },
     "execution_count": 64,
     "metadata": {},
     "output_type": "execute_result"
    }
   ],
   "source": [
    "pipeline.score(df_test, df_test['wpm_class'])"
   ]
  },
  {
   "cell_type": "code",
   "execution_count": 65,
   "metadata": {},
   "outputs": [
    {
     "name": "stdout",
     "output_type": "stream",
     "text": [
      "              precision    recall  f1-score   support\n",
      "\n",
      "           0       0.54      0.79      0.64       303\n",
      "           1       0.39      0.28      0.33       234\n",
      "           2       0.48      0.15      0.23       107\n",
      "\n",
      "   micro avg       0.50      0.50      0.50       644\n",
      "   macro avg       0.47      0.41      0.40       644\n",
      "weighted avg       0.48      0.50      0.46       644\n",
      "\n"
     ]
    }
   ],
   "source": [
    "y_pred = pipeline.predict(df_test)\n",
    "print(classification_report(df_test['wpm_class'], y_pred))"
   ]
  },
  {
   "cell_type": "code",
   "execution_count": 129,
   "metadata": {},
   "outputs": [],
   "source": [
    "import pickle\n",
    "\n",
    "with open(\"typeracer_model.pkl\", \"wb\") as outfile:\n",
    "    pickle.dump(pipeline, outfile)"
   ]
  }
 ],
 "metadata": {
  "kernelspec": {
   "display_name": "Python 3",
   "language": "python",
   "name": "python3"
  },
  "language_info": {
   "codemirror_mode": {
    "name": "ipython",
    "version": 3
   },
   "file_extension": ".py",
   "mimetype": "text/x-python",
   "name": "python",
   "nbconvert_exporter": "python",
   "pygments_lexer": "ipython3",
   "version": "3.5.2"
  }
 },
 "nbformat": 4,
 "nbformat_minor": 2
}
